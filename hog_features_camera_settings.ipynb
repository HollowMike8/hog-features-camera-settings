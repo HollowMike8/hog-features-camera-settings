{
  "nbformat": 4,
  "nbformat_minor": 0,
  "metadata": {
    "colab": {
      "name": "hog-features-camera-settings.ipynb",
      "provenance": [],
      "collapsed_sections": []
    },
    "kernelspec": {
      "name": "python3",
      "display_name": "Python 3"
    },
    "language_info": {
      "name": "python"
    }
  },
  "cells": [
    {
      "cell_type": "code",
      "execution_count": 1,
      "metadata": {
        "id": "dShikymPBiwb"
      },
      "outputs": [],
      "source": [
        "import os\n",
        "import numpy as np\n",
        "import pandas as pd\n",
        "import matplotlib.pyplot as plt\n",
        "\n",
        "from tensorflow import keras\n",
        "from keras.models import Sequential\n",
        "import keras.layers as tfl\n",
        "from sklearn.model_selection import train_test_split"
      ]
    },
    {
      "cell_type": "markdown",
      "source": [
        "# **Load the input and output datasets**\n"
      ],
      "metadata": {
        "id": "Fta_IHCRsKUn"
      }
    },
    {
      "cell_type": "code",
      "source": [
        "path_dir: str = r\"/content\"\n",
        "\n",
        "feature_descriptors_path = os.path.join(path_dir, \n",
        "                                        'hog_feature_descriptors.csv')\n",
        "camera_settings_path = os.path.join(path_dir, 'camera_settings.csv')\n",
        "\n",
        "# read the input, output datasets\n",
        "df1 = pd.read_csv(feature_descriptors_path)\n",
        "df2 = pd.read_csv(camera_settings_path)"
      ],
      "metadata": {
        "id": "Xs4R2augCzJc"
      },
      "execution_count": 2,
      "outputs": []
    },
    {
      "cell_type": "markdown",
      "source": [
        "# **Feature Scaling**"
      ],
      "metadata": {
        "id": "Zd-QX8QAs2sW"
      }
    },
    {
      "cell_type": "code",
      "source": [
        "def feature_scaling(df):\n",
        "  #copy the dataframe\n",
        "  df_new = df.copy()\n",
        "  # create a dictionary to store mean, max, min of each column\n",
        "  stats = {}\n",
        "\n",
        "  for column in df_new.columns:\n",
        "    temp_dict = {\"mean\":df_new[column].mean(), \"max\":df_new[column].max(), \n",
        "              \"min\":df_new[column].min()}\n",
        "\n",
        "    if temp_dict[\"max\"] != temp_dict[\"min\"]:\n",
        "      df_new[column] = (df_new[column] - temp_dict[\"mean\"]) / (temp_dict[\"max\"] - temp_dict[\"min\"])\n",
        "    else:\n",
        "      df_new[column] = df_new[column]/temp_dict[\"mean\"]\n",
        "    stats[column] = temp_dict\n",
        "\n",
        "  return df_new, stats"
      ],
      "metadata": {
        "id": "NDnhCakADktA"
      },
      "execution_count": 144,
      "outputs": []
    },
    {
      "cell_type": "code",
      "source": [
        "df1_scaled, stats1 = feature_scaling(df1.drop('hog_input_img', axis = 1))\n",
        "df1_scaled"
      ],
      "metadata": {
        "colab": {
          "base_uri": "https://localhost:8080/",
          "height": 423
        },
        "id": "bCd4qygFM8jG",
        "outputId": "81d9147f-165d-4bc1-a43c-e91fba4bd038"
      },
      "execution_count": 145,
      "outputs": [
        {
          "output_type": "execute_result",
          "data": {
            "text/html": [
              "\n",
              "  <div id=\"df-55fa4cd0-e83f-4000-83cc-c9b7c91d1d7f\">\n",
              "    <div class=\"colab-df-container\">\n",
              "      <div>\n",
              "<style scoped>\n",
              "    .dataframe tbody tr th:only-of-type {\n",
              "        vertical-align: middle;\n",
              "    }\n",
              "\n",
              "    .dataframe tbody tr th {\n",
              "        vertical-align: top;\n",
              "    }\n",
              "\n",
              "    .dataframe thead th {\n",
              "        text-align: right;\n",
              "    }\n",
              "</style>\n",
              "<table border=\"1\" class=\"dataframe\">\n",
              "  <thead>\n",
              "    <tr style=\"text-align: right;\">\n",
              "      <th></th>\n",
              "      <th>0-20</th>\n",
              "      <th>20-40</th>\n",
              "      <th>40-60</th>\n",
              "      <th>60-80</th>\n",
              "      <th>80-100</th>\n",
              "      <th>100-120</th>\n",
              "      <th>120-140</th>\n",
              "      <th>140-160</th>\n",
              "      <th>160-180</th>\n",
              "    </tr>\n",
              "  </thead>\n",
              "  <tbody>\n",
              "    <tr>\n",
              "      <th>0</th>\n",
              "      <td>0.500312</td>\n",
              "      <td>0.451862</td>\n",
              "      <td>-0.217857</td>\n",
              "      <td>-0.124985</td>\n",
              "      <td>0.051517</td>\n",
              "      <td>-0.014105</td>\n",
              "      <td>-0.262228</td>\n",
              "      <td>0.039518</td>\n",
              "      <td>0.040515</td>\n",
              "    </tr>\n",
              "    <tr>\n",
              "      <th>1</th>\n",
              "      <td>0.458506</td>\n",
              "      <td>0.362611</td>\n",
              "      <td>-0.208614</td>\n",
              "      <td>-0.079560</td>\n",
              "      <td>0.079116</td>\n",
              "      <td>-0.048411</td>\n",
              "      <td>-0.310835</td>\n",
              "      <td>0.003673</td>\n",
              "      <td>0.231259</td>\n",
              "    </tr>\n",
              "    <tr>\n",
              "      <th>2</th>\n",
              "      <td>0.393571</td>\n",
              "      <td>0.393159</td>\n",
              "      <td>-0.185922</td>\n",
              "      <td>-0.080907</td>\n",
              "      <td>0.084444</td>\n",
              "      <td>-0.114641</td>\n",
              "      <td>-0.331556</td>\n",
              "      <td>0.019396</td>\n",
              "      <td>0.178675</td>\n",
              "    </tr>\n",
              "    <tr>\n",
              "      <th>3</th>\n",
              "      <td>0.336407</td>\n",
              "      <td>0.290615</td>\n",
              "      <td>-0.152262</td>\n",
              "      <td>-0.063119</td>\n",
              "      <td>0.044170</td>\n",
              "      <td>-0.109702</td>\n",
              "      <td>-0.373299</td>\n",
              "      <td>0.169017</td>\n",
              "      <td>0.084332</td>\n",
              "    </tr>\n",
              "    <tr>\n",
              "      <th>4</th>\n",
              "      <td>0.315061</td>\n",
              "      <td>0.222008</td>\n",
              "      <td>-0.133600</td>\n",
              "      <td>-0.032582</td>\n",
              "      <td>0.060206</td>\n",
              "      <td>-0.174535</td>\n",
              "      <td>-0.377369</td>\n",
              "      <td>0.078288</td>\n",
              "      <td>0.222786</td>\n",
              "    </tr>\n",
              "    <tr>\n",
              "      <th>...</th>\n",
              "      <td>...</td>\n",
              "      <td>...</td>\n",
              "      <td>...</td>\n",
              "      <td>...</td>\n",
              "      <td>...</td>\n",
              "      <td>...</td>\n",
              "      <td>...</td>\n",
              "      <td>...</td>\n",
              "      <td>...</td>\n",
              "    </tr>\n",
              "    <tr>\n",
              "      <th>74995</th>\n",
              "      <td>-0.113583</td>\n",
              "      <td>-0.153366</td>\n",
              "      <td>0.004781</td>\n",
              "      <td>-0.051849</td>\n",
              "      <td>-0.097730</td>\n",
              "      <td>0.113376</td>\n",
              "      <td>0.189425</td>\n",
              "      <td>-0.210674</td>\n",
              "      <td>-0.188817</td>\n",
              "    </tr>\n",
              "    <tr>\n",
              "      <th>74996</th>\n",
              "      <td>-0.134770</td>\n",
              "      <td>-0.126703</td>\n",
              "      <td>0.029232</td>\n",
              "      <td>-0.021334</td>\n",
              "      <td>-0.092263</td>\n",
              "      <td>0.141500</td>\n",
              "      <td>0.173181</td>\n",
              "      <td>-0.200838</td>\n",
              "      <td>-0.180407</td>\n",
              "    </tr>\n",
              "    <tr>\n",
              "      <th>74997</th>\n",
              "      <td>-0.104503</td>\n",
              "      <td>-0.135287</td>\n",
              "      <td>0.072452</td>\n",
              "      <td>-0.040298</td>\n",
              "      <td>-0.047574</td>\n",
              "      <td>0.063080</td>\n",
              "      <td>0.181744</td>\n",
              "      <td>-0.235010</td>\n",
              "      <td>-0.168999</td>\n",
              "    </tr>\n",
              "    <tr>\n",
              "      <th>74998</th>\n",
              "      <td>-0.086767</td>\n",
              "      <td>-0.140075</td>\n",
              "      <td>0.060863</td>\n",
              "      <td>0.003088</td>\n",
              "      <td>-0.080385</td>\n",
              "      <td>0.023881</td>\n",
              "      <td>0.144815</td>\n",
              "      <td>-0.171475</td>\n",
              "      <td>-0.119309</td>\n",
              "    </tr>\n",
              "    <tr>\n",
              "      <th>74999</th>\n",
              "      <td>-0.099026</td>\n",
              "      <td>-0.087528</td>\n",
              "      <td>0.070825</td>\n",
              "      <td>0.003787</td>\n",
              "      <td>-0.095148</td>\n",
              "      <td>0.009996</td>\n",
              "      <td>0.169325</td>\n",
              "      <td>-0.158015</td>\n",
              "      <td>-0.216287</td>\n",
              "    </tr>\n",
              "  </tbody>\n",
              "</table>\n",
              "<p>75000 rows × 9 columns</p>\n",
              "</div>\n",
              "      <button class=\"colab-df-convert\" onclick=\"convertToInteractive('df-55fa4cd0-e83f-4000-83cc-c9b7c91d1d7f')\"\n",
              "              title=\"Convert this dataframe to an interactive table.\"\n",
              "              style=\"display:none;\">\n",
              "        \n",
              "  <svg xmlns=\"http://www.w3.org/2000/svg\" height=\"24px\"viewBox=\"0 0 24 24\"\n",
              "       width=\"24px\">\n",
              "    <path d=\"M0 0h24v24H0V0z\" fill=\"none\"/>\n",
              "    <path d=\"M18.56 5.44l.94 2.06.94-2.06 2.06-.94-2.06-.94-.94-2.06-.94 2.06-2.06.94zm-11 1L8.5 8.5l.94-2.06 2.06-.94-2.06-.94L8.5 2.5l-.94 2.06-2.06.94zm10 10l.94 2.06.94-2.06 2.06-.94-2.06-.94-.94-2.06-.94 2.06-2.06.94z\"/><path d=\"M17.41 7.96l-1.37-1.37c-.4-.4-.92-.59-1.43-.59-.52 0-1.04.2-1.43.59L10.3 9.45l-7.72 7.72c-.78.78-.78 2.05 0 2.83L4 21.41c.39.39.9.59 1.41.59.51 0 1.02-.2 1.41-.59l7.78-7.78 2.81-2.81c.8-.78.8-2.07 0-2.86zM5.41 20L4 18.59l7.72-7.72 1.47 1.35L5.41 20z\"/>\n",
              "  </svg>\n",
              "      </button>\n",
              "      \n",
              "  <style>\n",
              "    .colab-df-container {\n",
              "      display:flex;\n",
              "      flex-wrap:wrap;\n",
              "      gap: 12px;\n",
              "    }\n",
              "\n",
              "    .colab-df-convert {\n",
              "      background-color: #E8F0FE;\n",
              "      border: none;\n",
              "      border-radius: 50%;\n",
              "      cursor: pointer;\n",
              "      display: none;\n",
              "      fill: #1967D2;\n",
              "      height: 32px;\n",
              "      padding: 0 0 0 0;\n",
              "      width: 32px;\n",
              "    }\n",
              "\n",
              "    .colab-df-convert:hover {\n",
              "      background-color: #E2EBFA;\n",
              "      box-shadow: 0px 1px 2px rgba(60, 64, 67, 0.3), 0px 1px 3px 1px rgba(60, 64, 67, 0.15);\n",
              "      fill: #174EA6;\n",
              "    }\n",
              "\n",
              "    [theme=dark] .colab-df-convert {\n",
              "      background-color: #3B4455;\n",
              "      fill: #D2E3FC;\n",
              "    }\n",
              "\n",
              "    [theme=dark] .colab-df-convert:hover {\n",
              "      background-color: #434B5C;\n",
              "      box-shadow: 0px 1px 3px 1px rgba(0, 0, 0, 0.15);\n",
              "      filter: drop-shadow(0px 1px 2px rgba(0, 0, 0, 0.3));\n",
              "      fill: #FFFFFF;\n",
              "    }\n",
              "  </style>\n",
              "\n",
              "      <script>\n",
              "        const buttonEl =\n",
              "          document.querySelector('#df-55fa4cd0-e83f-4000-83cc-c9b7c91d1d7f button.colab-df-convert');\n",
              "        buttonEl.style.display =\n",
              "          google.colab.kernel.accessAllowed ? 'block' : 'none';\n",
              "\n",
              "        async function convertToInteractive(key) {\n",
              "          const element = document.querySelector('#df-55fa4cd0-e83f-4000-83cc-c9b7c91d1d7f');\n",
              "          const dataTable =\n",
              "            await google.colab.kernel.invokeFunction('convertToInteractive',\n",
              "                                                     [key], {});\n",
              "          if (!dataTable) return;\n",
              "\n",
              "          const docLinkHtml = 'Like what you see? Visit the ' +\n",
              "            '<a target=\"_blank\" href=https://colab.research.google.com/notebooks/data_table.ipynb>data table notebook</a>'\n",
              "            + ' to learn more about interactive tables.';\n",
              "          element.innerHTML = '';\n",
              "          dataTable['output_type'] = 'display_data';\n",
              "          await google.colab.output.renderOutput(dataTable, element);\n",
              "          const docLink = document.createElement('div');\n",
              "          docLink.innerHTML = docLinkHtml;\n",
              "          element.appendChild(docLink);\n",
              "        }\n",
              "      </script>\n",
              "    </div>\n",
              "  </div>\n",
              "  "
            ],
            "text/plain": [
              "           0-20     20-40     40-60  ...   120-140   140-160   160-180\n",
              "0      0.500312  0.451862 -0.217857  ... -0.262228  0.039518  0.040515\n",
              "1      0.458506  0.362611 -0.208614  ... -0.310835  0.003673  0.231259\n",
              "2      0.393571  0.393159 -0.185922  ... -0.331556  0.019396  0.178675\n",
              "3      0.336407  0.290615 -0.152262  ... -0.373299  0.169017  0.084332\n",
              "4      0.315061  0.222008 -0.133600  ... -0.377369  0.078288  0.222786\n",
              "...         ...       ...       ...  ...       ...       ...       ...\n",
              "74995 -0.113583 -0.153366  0.004781  ...  0.189425 -0.210674 -0.188817\n",
              "74996 -0.134770 -0.126703  0.029232  ...  0.173181 -0.200838 -0.180407\n",
              "74997 -0.104503 -0.135287  0.072452  ...  0.181744 -0.235010 -0.168999\n",
              "74998 -0.086767 -0.140075  0.060863  ...  0.144815 -0.171475 -0.119309\n",
              "74999 -0.099026 -0.087528  0.070825  ...  0.169325 -0.158015 -0.216287\n",
              "\n",
              "[75000 rows x 9 columns]"
            ]
          },
          "metadata": {},
          "execution_count": 145
        }
      ]
    },
    {
      "cell_type": "code",
      "source": [
        "df2_scaled, stats2 = feature_scaling(df2.drop('hog_input_img', axis = 1))\n",
        "df2_scaled"
      ],
      "metadata": {
        "colab": {
          "base_uri": "https://localhost:8080/",
          "height": 423
        },
        "id": "IKXc6nSBNHb8",
        "outputId": "5d59865d-4de5-4655-c0ca-0bc09eea4923"
      },
      "execution_count": 249,
      "outputs": [
        {
          "output_type": "execute_result",
          "data": {
            "text/html": [
              "\n",
              "  <div id=\"df-549a6189-96ad-484f-84b2-3e9e89720500\">\n",
              "    <div class=\"colab-df-container\">\n",
              "      <div>\n",
              "<style scoped>\n",
              "    .dataframe tbody tr th:only-of-type {\n",
              "        vertical-align: middle;\n",
              "    }\n",
              "\n",
              "    .dataframe tbody tr th {\n",
              "        vertical-align: top;\n",
              "    }\n",
              "\n",
              "    .dataframe thead th {\n",
              "        text-align: right;\n",
              "    }\n",
              "</style>\n",
              "<table border=\"1\" class=\"dataframe\">\n",
              "  <thead>\n",
              "    <tr style=\"text-align: right;\">\n",
              "      <th></th>\n",
              "      <th>rotXdeg</th>\n",
              "      <th>rotYdeg</th>\n",
              "      <th>rotZdeg</th>\n",
              "      <th>distX</th>\n",
              "      <th>distY</th>\n",
              "      <th>distZ</th>\n",
              "      <th>f</th>\n",
              "    </tr>\n",
              "  </thead>\n",
              "  <tbody>\n",
              "    <tr>\n",
              "      <th>0</th>\n",
              "      <td>-0.5</td>\n",
              "      <td>1.0</td>\n",
              "      <td>-0.5</td>\n",
              "      <td>-0.5</td>\n",
              "      <td>-0.5</td>\n",
              "      <td>-0.5</td>\n",
              "      <td>-0.500000</td>\n",
              "    </tr>\n",
              "    <tr>\n",
              "      <th>1</th>\n",
              "      <td>-0.5</td>\n",
              "      <td>1.0</td>\n",
              "      <td>-0.5</td>\n",
              "      <td>-0.5</td>\n",
              "      <td>-0.5</td>\n",
              "      <td>-0.5</td>\n",
              "      <td>-0.388889</td>\n",
              "    </tr>\n",
              "    <tr>\n",
              "      <th>2</th>\n",
              "      <td>-0.5</td>\n",
              "      <td>1.0</td>\n",
              "      <td>-0.5</td>\n",
              "      <td>-0.5</td>\n",
              "      <td>-0.5</td>\n",
              "      <td>-0.5</td>\n",
              "      <td>-0.277778</td>\n",
              "    </tr>\n",
              "    <tr>\n",
              "      <th>3</th>\n",
              "      <td>-0.5</td>\n",
              "      <td>1.0</td>\n",
              "      <td>-0.5</td>\n",
              "      <td>-0.5</td>\n",
              "      <td>-0.5</td>\n",
              "      <td>-0.5</td>\n",
              "      <td>-0.166667</td>\n",
              "    </tr>\n",
              "    <tr>\n",
              "      <th>4</th>\n",
              "      <td>-0.5</td>\n",
              "      <td>1.0</td>\n",
              "      <td>-0.5</td>\n",
              "      <td>-0.5</td>\n",
              "      <td>-0.5</td>\n",
              "      <td>-0.5</td>\n",
              "      <td>-0.055556</td>\n",
              "    </tr>\n",
              "    <tr>\n",
              "      <th>...</th>\n",
              "      <td>...</td>\n",
              "      <td>...</td>\n",
              "      <td>...</td>\n",
              "      <td>...</td>\n",
              "      <td>...</td>\n",
              "      <td>...</td>\n",
              "      <td>...</td>\n",
              "    </tr>\n",
              "    <tr>\n",
              "      <th>74995</th>\n",
              "      <td>0.5</td>\n",
              "      <td>1.0</td>\n",
              "      <td>0.5</td>\n",
              "      <td>0.5</td>\n",
              "      <td>0.5</td>\n",
              "      <td>0.5</td>\n",
              "      <td>0.055556</td>\n",
              "    </tr>\n",
              "    <tr>\n",
              "      <th>74996</th>\n",
              "      <td>0.5</td>\n",
              "      <td>1.0</td>\n",
              "      <td>0.5</td>\n",
              "      <td>0.5</td>\n",
              "      <td>0.5</td>\n",
              "      <td>0.5</td>\n",
              "      <td>0.166667</td>\n",
              "    </tr>\n",
              "    <tr>\n",
              "      <th>74997</th>\n",
              "      <td>0.5</td>\n",
              "      <td>1.0</td>\n",
              "      <td>0.5</td>\n",
              "      <td>0.5</td>\n",
              "      <td>0.5</td>\n",
              "      <td>0.5</td>\n",
              "      <td>0.277778</td>\n",
              "    </tr>\n",
              "    <tr>\n",
              "      <th>74998</th>\n",
              "      <td>0.5</td>\n",
              "      <td>1.0</td>\n",
              "      <td>0.5</td>\n",
              "      <td>0.5</td>\n",
              "      <td>0.5</td>\n",
              "      <td>0.5</td>\n",
              "      <td>0.388889</td>\n",
              "    </tr>\n",
              "    <tr>\n",
              "      <th>74999</th>\n",
              "      <td>0.5</td>\n",
              "      <td>1.0</td>\n",
              "      <td>0.5</td>\n",
              "      <td>0.5</td>\n",
              "      <td>0.5</td>\n",
              "      <td>0.5</td>\n",
              "      <td>0.500000</td>\n",
              "    </tr>\n",
              "  </tbody>\n",
              "</table>\n",
              "<p>75000 rows × 7 columns</p>\n",
              "</div>\n",
              "      <button class=\"colab-df-convert\" onclick=\"convertToInteractive('df-549a6189-96ad-484f-84b2-3e9e89720500')\"\n",
              "              title=\"Convert this dataframe to an interactive table.\"\n",
              "              style=\"display:none;\">\n",
              "        \n",
              "  <svg xmlns=\"http://www.w3.org/2000/svg\" height=\"24px\"viewBox=\"0 0 24 24\"\n",
              "       width=\"24px\">\n",
              "    <path d=\"M0 0h24v24H0V0z\" fill=\"none\"/>\n",
              "    <path d=\"M18.56 5.44l.94 2.06.94-2.06 2.06-.94-2.06-.94-.94-2.06-.94 2.06-2.06.94zm-11 1L8.5 8.5l.94-2.06 2.06-.94-2.06-.94L8.5 2.5l-.94 2.06-2.06.94zm10 10l.94 2.06.94-2.06 2.06-.94-2.06-.94-.94-2.06-.94 2.06-2.06.94z\"/><path d=\"M17.41 7.96l-1.37-1.37c-.4-.4-.92-.59-1.43-.59-.52 0-1.04.2-1.43.59L10.3 9.45l-7.72 7.72c-.78.78-.78 2.05 0 2.83L4 21.41c.39.39.9.59 1.41.59.51 0 1.02-.2 1.41-.59l7.78-7.78 2.81-2.81c.8-.78.8-2.07 0-2.86zM5.41 20L4 18.59l7.72-7.72 1.47 1.35L5.41 20z\"/>\n",
              "  </svg>\n",
              "      </button>\n",
              "      \n",
              "  <style>\n",
              "    .colab-df-container {\n",
              "      display:flex;\n",
              "      flex-wrap:wrap;\n",
              "      gap: 12px;\n",
              "    }\n",
              "\n",
              "    .colab-df-convert {\n",
              "      background-color: #E8F0FE;\n",
              "      border: none;\n",
              "      border-radius: 50%;\n",
              "      cursor: pointer;\n",
              "      display: none;\n",
              "      fill: #1967D2;\n",
              "      height: 32px;\n",
              "      padding: 0 0 0 0;\n",
              "      width: 32px;\n",
              "    }\n",
              "\n",
              "    .colab-df-convert:hover {\n",
              "      background-color: #E2EBFA;\n",
              "      box-shadow: 0px 1px 2px rgba(60, 64, 67, 0.3), 0px 1px 3px 1px rgba(60, 64, 67, 0.15);\n",
              "      fill: #174EA6;\n",
              "    }\n",
              "\n",
              "    [theme=dark] .colab-df-convert {\n",
              "      background-color: #3B4455;\n",
              "      fill: #D2E3FC;\n",
              "    }\n",
              "\n",
              "    [theme=dark] .colab-df-convert:hover {\n",
              "      background-color: #434B5C;\n",
              "      box-shadow: 0px 1px 3px 1px rgba(0, 0, 0, 0.15);\n",
              "      filter: drop-shadow(0px 1px 2px rgba(0, 0, 0, 0.3));\n",
              "      fill: #FFFFFF;\n",
              "    }\n",
              "  </style>\n",
              "\n",
              "      <script>\n",
              "        const buttonEl =\n",
              "          document.querySelector('#df-549a6189-96ad-484f-84b2-3e9e89720500 button.colab-df-convert');\n",
              "        buttonEl.style.display =\n",
              "          google.colab.kernel.accessAllowed ? 'block' : 'none';\n",
              "\n",
              "        async function convertToInteractive(key) {\n",
              "          const element = document.querySelector('#df-549a6189-96ad-484f-84b2-3e9e89720500');\n",
              "          const dataTable =\n",
              "            await google.colab.kernel.invokeFunction('convertToInteractive',\n",
              "                                                     [key], {});\n",
              "          if (!dataTable) return;\n",
              "\n",
              "          const docLinkHtml = 'Like what you see? Visit the ' +\n",
              "            '<a target=\"_blank\" href=https://colab.research.google.com/notebooks/data_table.ipynb>data table notebook</a>'\n",
              "            + ' to learn more about interactive tables.';\n",
              "          element.innerHTML = '';\n",
              "          dataTable['output_type'] = 'display_data';\n",
              "          await google.colab.output.renderOutput(dataTable, element);\n",
              "          const docLink = document.createElement('div');\n",
              "          docLink.innerHTML = docLinkHtml;\n",
              "          element.appendChild(docLink);\n",
              "        }\n",
              "      </script>\n",
              "    </div>\n",
              "  </div>\n",
              "  "
            ],
            "text/plain": [
              "       rotXdeg  rotYdeg  rotZdeg  distX  distY  distZ         f\n",
              "0         -0.5      1.0     -0.5   -0.5   -0.5   -0.5 -0.500000\n",
              "1         -0.5      1.0     -0.5   -0.5   -0.5   -0.5 -0.388889\n",
              "2         -0.5      1.0     -0.5   -0.5   -0.5   -0.5 -0.277778\n",
              "3         -0.5      1.0     -0.5   -0.5   -0.5   -0.5 -0.166667\n",
              "4         -0.5      1.0     -0.5   -0.5   -0.5   -0.5 -0.055556\n",
              "...        ...      ...      ...    ...    ...    ...       ...\n",
              "74995      0.5      1.0      0.5    0.5    0.5    0.5  0.055556\n",
              "74996      0.5      1.0      0.5    0.5    0.5    0.5  0.166667\n",
              "74997      0.5      1.0      0.5    0.5    0.5    0.5  0.277778\n",
              "74998      0.5      1.0      0.5    0.5    0.5    0.5  0.388889\n",
              "74999      0.5      1.0      0.5    0.5    0.5    0.5  0.500000\n",
              "\n",
              "[75000 rows x 7 columns]"
            ]
          },
          "metadata": {},
          "execution_count": 249
        }
      ]
    },
    {
      "cell_type": "markdown",
      "source": [
        "# **Train, validation and test datasets**"
      ],
      "metadata": {
        "id": "sOhdiyfhtrf2"
      }
    },
    {
      "cell_type": "code",
      "source": [
        "# input data (HOG features)\n",
        "X = df1_scaled.values\n",
        "\n",
        "# output data (camera settings)\n",
        "y = df2_scaled.values\n",
        "\n",
        "# split data into training and testing data\n",
        "X_train, X_temp, y_train, y_temp = train_test_split(X, y, test_size = 0.2, \n",
        "                                                    random_state = 42)\n",
        "\n",
        "X_dev, X_test, y_dev, y_test = train_test_split(X_temp, y_temp, test_size = 0.5, \n",
        "                                                random_state = 42)"
      ],
      "metadata": {
        "id": "KPbyBUasXcGw"
      },
      "execution_count": 250,
      "outputs": []
    },
    {
      "cell_type": "markdown",
      "source": [
        "# **DNN model**"
      ],
      "metadata": {
        "id": "bkO5-apluJsf"
      }
    },
    {
      "cell_type": "code",
      "source": [
        "#@title deep NN model\n",
        "def dnn_model(n_inputs, n_outputs, alpha, hidden_units_3):\n",
        "  model = Sequential()\n",
        "  model.add(tfl.Dense(12, input_dim = n_inputs, kernel_initializer='he_uniform', \n",
        "                  activation='relu'))\n",
        "  model.add(tfl.Dense(9, kernel_initializer='he_uniform', activation='relu'))\n",
        "  model.add(tfl.Dense(hidden_units_3, kernel_initializer='he_uniform', activation='relu'))\n",
        "  model.add(tfl.Dense(n_outputs, activation='linear'))\n",
        "\n",
        "  opt = keras.optimizers.Adam(learning_rate = alpha)\n",
        "  model.compile(loss='mae', optimizer = opt)\n",
        "\n",
        "  print(model.summary())\n",
        "\n",
        "  return model"
      ],
      "metadata": {
        "id": "EKDe-ZQnVpvc"
      },
      "execution_count": 189,
      "outputs": []
    },
    {
      "cell_type": "code",
      "source": [
        "#@title train the dnn model\n",
        "def fit_dnn_model(X_train, y_train, X_dev, y_dev, alpha=1e-1, batch_size=64,\n",
        "                 epochs=1, hidden_units_3=9):\n",
        "  # dimensions of the input, output\n",
        "  n_inputs, n_outputs = X_train.shape[1], y_train.shape[1]\n",
        "\n",
        "  # fit a deep learning model\n",
        "  model = dnn_model(n_inputs, n_outputs, alpha, hidden_units_3)\n",
        "  history = model.fit(X_train, y_train, validation_data = (X_dev, y_dev), \n",
        "                      batch_size=batch_size, epochs=epochs, verbose=1)\n",
        "  return model, history"
      ],
      "metadata": {
        "id": "8uc5foKSuC6G"
      },
      "execution_count": 149,
      "outputs": []
    },
    {
      "cell_type": "markdown",
      "source": [
        "# **Train the model**"
      ],
      "metadata": {
        "id": "V7JvtsTouSod"
      }
    },
    {
      "cell_type": "code",
      "source": [
        "model, history = fit_dnn_model(X_train, y_train, X_dev, y_dev, alpha=0.0143, \n",
        "                               batch_size=512, epochs=100, hidden_units_3=9)"
      ],
      "metadata": {
        "id": "RaaULslMupON"
      },
      "execution_count": null,
      "outputs": []
    },
    {
      "cell_type": "markdown",
      "source": [
        "# **Plot: Cost Function vs epochs**"
      ],
      "metadata": {
        "id": "KjqnLnNzuanj"
      }
    },
    {
      "cell_type": "code",
      "source": [
        "#@title plot cost wrt epochs\n",
        "plt.plot(history.history['loss'])\n",
        "plt.plot(history.history['val_loss'])\n",
        "\n",
        "# plt.ylim(0, 1)\n",
        "plt.title('model loss')\n",
        "plt.ylabel('loss')\n",
        "plt.xlabel('epoch')\n",
        "plt.legend(['training data', 'dev data'], loc='upper right')\n",
        "plt.show()"
      ],
      "metadata": {
        "id": "2Iqp0XzIcpPk",
        "colab": {
          "base_uri": "https://localhost:8080/",
          "height": 294
        },
        "outputId": "7cdae421-520b-4a8b-977c-43f6b453177a"
      },
      "execution_count": 252,
      "outputs": [
        {
          "output_type": "display_data",
          "data": {
            "image/png": "[encoded data removed]",
            "text/plain": [
              "<Figure size 432x288 with 1 Axes>"
            ]
          },
          "metadata": {
            "needs_background": "light"
          }
        }
      ]
    },
    {
      "cell_type": "code",
      "source": [
        "# evaluate model on test set\n",
        "mae = model.evaluate(X_test, y_test, verbose=1)\n",
        "print('>%.3f' % mae)"
      ],
      "metadata": {
        "colab": {
          "base_uri": "https://localhost:8080/"
        },
        "id": "tGFmhUdumaP6",
        "outputId": "5c767097-03e2-4425-979f-f891c482e03c"
      },
      "execution_count": 253,
      "outputs": [
        {
          "output_type": "stream",
          "name": "stdout",
          "text": [
            "235/235 [==============================] - 0s 2ms/step - loss: 0.1084\n",
            ">0.108\n"
          ]
        }
      ]
    },
    {
      "cell_type": "markdown",
      "source": [
        "# **Prediction**"
      ],
      "metadata": {
        "id": "vEqrO62C6DLu"
      }
    },
    {
      "cell_type": "code",
      "source": [
        "def true_prediction(yhat,stats2):\n",
        "  rotX_pred = yhat[0]*(stats2['rotXdeg']['max']-stats2['rotXdeg']['min'])+stats2['rotXdeg']['mean']\n",
        "  rotY_pred = yhat[1]*(stats2['rotYdeg']['max']-stats2['rotYdeg']['min'])+stats2['rotYdeg']['mean']\n",
        "  rotZ_pred = yhat[2]*(stats2['rotZdeg']['max']-stats2['rotZdeg']['min'])+stats2['rotZdeg']['mean']\n",
        "  distX_pred = yhat[3]*(stats2['distX']['max']-stats2['distX']['min'])+stats2['distX']['mean']\n",
        "  distY_pred = yhat[4]*(stats2['distY']['max']-stats2['distY']['min'])+stats2['distY']['mean']\n",
        "  distZ_pred = yhat[5]*(stats2['distZ']['max']-stats2['distZ']['min'])+stats2['distZ']['mean']\n",
        "  f_pred = yhat[6]*(stats2['f']['max']-stats2['f']['min'])+stats2['f']['mean']\n",
        "\n",
        "  true_pred = np.array([rotX_pred, rotY_pred, rotZ_pred, distX_pred, distY_pred, distZ_pred, f_pred])\n",
        "\n",
        "  return true_pred"
      ],
      "metadata": {
        "id": "keGncNvlyGIl"
      },
      "execution_count": 202,
      "outputs": []
    },
    {
      "cell_type": "code",
      "source": [
        "index = 2000\n",
        "if index < len(X_test):\n",
        "  newX = np.asarray([X_test[index]])\n",
        "  yhat = model.predict(newX)\n",
        "  print(\"========================================================================================\")\n",
        "  print(\"True Prediction of y_hat = %s\"% np.round(true_prediction(yhat[0],stats2),2))\n",
        "  print(\"========================================================================================\")\n",
        "  print(\"True Prediction of ytest = %s\"% true_prediction(y_test[index],stats2))\n",
        "  print(\"========================================================================================\")\n",
        "else:\n",
        "  print(\"Index out of range; Max value allowed is %s\"%(len(X_test)-1))"
      ],
      "metadata": {
        "colab": {
          "base_uri": "https://localhost:8080/"
        },
        "id": "eK0r8yxemoBL",
        "outputId": "99fce3ee-d89c-4dcd-e9db-5c0e8775fa9c"
      },
      "execution_count": 254,
      "outputs": [
        {
          "output_type": "stream",
          "name": "stdout",
          "text": [
            "========================================================================================\n",
            "True Prediction of y_hat = [  12.91   90.    131.69  452.01   88.81  886.   3804.77]\n",
            "========================================================================================\n",
            "True Prediction of ytest = [  13.   90.  131.  460.   89.  910. 3900.]\n",
            "========================================================================================\n"
          ]
        }
      ]
    },
    {
      "cell_type": "markdown",
      "source": [
        "# **Plot: y_hat vs y_test**"
      ],
      "metadata": {
        "id": "vLipVVFw6Nvv"
      }
    },
    {
      "cell_type": "code",
      "source": [
        "def true_prediction_vec(yhat,stats2):\n",
        "  yhat[0] = yhat[0]*(stats2['rotXdeg']['max']-stats2['rotXdeg']['min'])+stats2['rotXdeg']['mean']\n",
        "  yhat[1] = yhat[1]*(stats2['rotYdeg']['max']-stats2['rotYdeg']['min'])+stats2['rotYdeg']['mean']\n",
        "  yhat[2] = yhat[2]*(stats2['rotZdeg']['max']-stats2['rotZdeg']['min'])+stats2['rotZdeg']['mean']\n",
        "  yhat[3] = yhat[3]*(stats2['distX']['max']-stats2['distX']['min'])+stats2['distX']['mean']\n",
        "  yhat[4] = yhat[4]*(stats2['distY']['max']-stats2['distY']['min'])+stats2['distY']['mean']\n",
        "  yhat[5] = yhat[5]*(stats2['distZ']['max']-stats2['distZ']['min'])+stats2['distZ']['mean']\n",
        "  yhat[6] = yhat[6]*(stats2['f']['max']-stats2['f']['min'])+stats2['f']['mean']\n",
        "  return yhat"
      ],
      "metadata": {
        "id": "HfjF5Mo7NLR1"
      },
      "execution_count": 196,
      "outputs": []
    },
    {
      "cell_type": "code",
      "source": [
        "newX = np.asarray(X_test)\n",
        "yhat = model.predict(newX)\n",
        "y_hat = np.round(true_prediction_vec(yhat,stats2),2)\n",
        "y_test_2 = np.round(true_prediction_vec(y_test,stats2),2)"
      ],
      "metadata": {
        "id": "3ki-p5YpJtVu"
      },
      "execution_count": 255,
      "outputs": []
    },
    {
      "cell_type": "code",
      "source": [
        "column_names = df2.columns"
      ],
      "metadata": {
        "id": "OFmA1ojSO75t"
      },
      "execution_count": 219,
      "outputs": []
    },
    {
      "cell_type": "code",
      "source": [
        "for index in range(y_test_2.shape[1]):\n",
        "  plt.scatter(y_test_2[:][index], y_hat[:][index])\n",
        "  plt.ylabel(\"y_hat\")\n",
        "  plt.xlabel(\"y_test\")\n",
        "  plt.title(\" y_test Vs. y_hat for %s\"% column_names[index+1])\n",
        "  plt.show()"
      ],
      "metadata": {
        "id": "4O6xABmBKm6v"
      },
      "execution_count": null,
      "outputs": []
    }
  ]
}